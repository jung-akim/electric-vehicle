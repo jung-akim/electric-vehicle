{
 "cells": [
  {
   "cell_type": "markdown",
   "id": "49891d62-2ac9-47ba-a304-68cd93ed8750",
   "metadata": {},
   "source": [
    "[Electric Vehicle Population Data](https://catalog.data.gov/dataset/electric-vehicle-population-data)<br>\n",
    "Metadata Updated: July 20, 2024\n",
    "<br><br>\n",
    "This dataset shows the Battery Electric Vehicles (BEVs) and Plug-in Hybrid Electric Vehicles (PHEVs) that are currently registered through Washington State Department of Licensing (DOL)."
   ]
  },
  {
   "cell_type": "code",
   "execution_count": 1,
   "id": "005b5502-031f-400f-8636-286b89d1cc01",
   "metadata": {},
   "outputs": [
    {
     "name": "stderr",
     "output_type": "stream",
     "text": [
      "[nltk_data] Downloading package stopwords to\n",
      "[nltk_data]     /Users/jungakim/nltk_data...\n",
      "[nltk_data]   Package stopwords is already up-to-date!\n"
     ]
    }
   ],
   "source": [
    "import pandas as pd\n",
    "from fuzzywuzzy import fuzz\n",
    "# from sentence_transformers import SentenceTransformer\n",
    "# model = SentenceTransformer(\"all-MiniLM-L6-v2\")\n",
    "from sklearn.metrics.pairwise import cosine_similarity\n",
    "import copy, requests, time, pickle\n",
    "from bs4 import BeautifulSoup\n",
    "from urllib.request import urlopen as uReq\n",
    "from utils import *\n",
    "# Plotting tools\n",
    "import pyLDAvis\n",
    "import pyLDAvis.gensim  # don't skip this\n",
    "import matplotlib.pyplot as plt\n",
    "%matplotlib inline\n",
    "\n",
    "data = pd.read_csv(\"../data/data.gov/modified/dataCAFV.csv\")\n",
    "exempt_list = pd.read_csv(\"../data/data.gov/WA_Tax_Exemptions_-_Potential_Eligibility_by_Make_Model_Excluding_Vehicle_Price_Criteria_20240730.csv\")\n",
    "with open(\"review_dict.pkl\", \"rb\") as fp:\n",
    "    review_dict = pickle.load(fp)"
   ]
  },
  {
   "cell_type": "code",
   "execution_count": 2,
   "id": "727b64d8-1c60-49c5-8064-792ec1acbefe",
   "metadata": {},
   "outputs": [],
   "source": [
    "def get_text_from_url(url):\n",
    "\n",
    "    uclient = uReq(url)\n",
    "    page_html = uclient.read()\n",
    "    uclient.close()\n",
    "    \n",
    "    soup=BeautifulSoup(page_html, \"html.parser\")\n",
    "    text=soup.get_text()\n",
    "\n",
    "    # break into lines and remove leading and trailing space on each\n",
    "    lines = (line.strip() for line in text.splitlines())\n",
    "    # break multi-headlines into a line each\n",
    "    chunks = (phrase.strip() for line in lines for phrase in line.split(\"  \"))\n",
    "    # drop blank lines\n",
    "    text = '\\n'.join(chunk for chunk in chunks if chunk)\n",
    "    # chunks = text.split(\"\\n\")\n",
    "    \n",
    "    return text\n"
   ]
  },
  {
   "cell_type": "code",
   "execution_count": 3,
   "id": "4ad2f465-2437-477d-a4da-1089a1d868cf",
   "metadata": {},
   "outputs": [
    {
     "data": {
      "text/html": [
       "<div>\n",
       "<style scoped>\n",
       "    .dataframe tbody tr th:only-of-type {\n",
       "        vertical-align: middle;\n",
       "    }\n",
       "\n",
       "    .dataframe tbody tr th {\n",
       "        vertical-align: top;\n",
       "    }\n",
       "\n",
       "    .dataframe thead th {\n",
       "        text-align: right;\n",
       "    }\n",
       "</style>\n",
       "<table border=\"1\" class=\"dataframe\">\n",
       "  <thead>\n",
       "    <tr style=\"text-align: right;\">\n",
       "      <th></th>\n",
       "      <th>proportion of CAFV</th>\n",
       "      <th>count</th>\n",
       "    </tr>\n",
       "    <tr>\n",
       "      <th>Make</th>\n",
       "      <th></th>\n",
       "      <th></th>\n",
       "    </tr>\n",
       "  </thead>\n",
       "  <tbody>\n",
       "    <tr>\n",
       "      <th>CHEVROLET</th>\n",
       "      <td>1.000000</td>\n",
       "      <td>4833</td>\n",
       "    </tr>\n",
       "    <tr>\n",
       "      <th>CHRYSLER</th>\n",
       "      <td>1.000000</td>\n",
       "      <td>3484</td>\n",
       "    </tr>\n",
       "    <tr>\n",
       "      <th>DODGE</th>\n",
       "      <td>1.000000</td>\n",
       "      <td>631</td>\n",
       "    </tr>\n",
       "    <tr>\n",
       "      <th>LEXUS</th>\n",
       "      <td>1.000000</td>\n",
       "      <td>347</td>\n",
       "    </tr>\n",
       "    <tr>\n",
       "      <th>CADILLAC</th>\n",
       "      <td>1.000000</td>\n",
       "      <td>88</td>\n",
       "    </tr>\n",
       "    <tr>\n",
       "      <th>ALFA ROMEO</th>\n",
       "      <td>1.000000</td>\n",
       "      <td>59</td>\n",
       "    </tr>\n",
       "    <tr>\n",
       "      <th>FISKER</th>\n",
       "      <td>1.000000</td>\n",
       "      <td>14</td>\n",
       "    </tr>\n",
       "    <tr>\n",
       "      <th>WHEEGO ELECTRIC CARS</th>\n",
       "      <td>1.000000</td>\n",
       "      <td>3</td>\n",
       "    </tr>\n",
       "    <tr>\n",
       "      <th>HONDA</th>\n",
       "      <td>0.988152</td>\n",
       "      <td>844</td>\n",
       "    </tr>\n",
       "    <tr>\n",
       "      <th>KIA</th>\n",
       "      <td>0.684170</td>\n",
       "      <td>2628</td>\n",
       "    </tr>\n",
       "    <tr>\n",
       "      <th>HYUNDAI</th>\n",
       "      <td>0.659824</td>\n",
       "      <td>682</td>\n",
       "    </tr>\n",
       "    <tr>\n",
       "      <th>BMW</th>\n",
       "      <td>0.641382</td>\n",
       "      <td>5181</td>\n",
       "    </tr>\n",
       "    <tr>\n",
       "      <th>VOLVO</th>\n",
       "      <td>0.457412</td>\n",
       "      <td>3076</td>\n",
       "    </tr>\n",
       "    <tr>\n",
       "      <th>TOYOTA</th>\n",
       "      <td>0.455132</td>\n",
       "      <td>6664</td>\n",
       "    </tr>\n",
       "    <tr>\n",
       "      <th>MITSUBISHI</th>\n",
       "      <td>0.423729</td>\n",
       "      <td>944</td>\n",
       "    </tr>\n",
       "    <tr>\n",
       "      <th>MERCEDES-BENZ</th>\n",
       "      <td>0.305970</td>\n",
       "      <td>402</td>\n",
       "    </tr>\n",
       "    <tr>\n",
       "      <th>LAND ROVER</th>\n",
       "      <td>0.238095</td>\n",
       "      <td>63</td>\n",
       "    </tr>\n",
       "    <tr>\n",
       "      <th>FORD</th>\n",
       "      <td>0.116179</td>\n",
       "      <td>3727</td>\n",
       "    </tr>\n",
       "    <tr>\n",
       "      <th>PORSCHE</th>\n",
       "      <td>0.011650</td>\n",
       "      <td>515</td>\n",
       "    </tr>\n",
       "    <tr>\n",
       "      <th>JEEP</th>\n",
       "      <td>0.000000</td>\n",
       "      <td>5141</td>\n",
       "    </tr>\n",
       "    <tr>\n",
       "      <th>AUDI</th>\n",
       "      <td>0.000000</td>\n",
       "      <td>1524</td>\n",
       "    </tr>\n",
       "    <tr>\n",
       "      <th>MAZDA</th>\n",
       "      <td>0.000000</td>\n",
       "      <td>623</td>\n",
       "    </tr>\n",
       "    <tr>\n",
       "      <th>LINCOLN</th>\n",
       "      <td>0.000000</td>\n",
       "      <td>288</td>\n",
       "    </tr>\n",
       "    <tr>\n",
       "      <th>MINI</th>\n",
       "      <td>0.000000</td>\n",
       "      <td>221</td>\n",
       "    </tr>\n",
       "    <tr>\n",
       "      <th>SUBARU</th>\n",
       "      <td>0.000000</td>\n",
       "      <td>67</td>\n",
       "    </tr>\n",
       "    <tr>\n",
       "      <th>BENTLEY</th>\n",
       "      <td>0.000000</td>\n",
       "      <td>4</td>\n",
       "    </tr>\n",
       "  </tbody>\n",
       "</table>\n",
       "</div>"
      ],
      "text/plain": [
       "                      proportion of CAFV  count\n",
       "Make                                           \n",
       "CHEVROLET                       1.000000   4833\n",
       "CHRYSLER                        1.000000   3484\n",
       "DODGE                           1.000000    631\n",
       "LEXUS                           1.000000    347\n",
       "CADILLAC                        1.000000     88\n",
       "ALFA ROMEO                      1.000000     59\n",
       "FISKER                          1.000000     14\n",
       "WHEEGO ELECTRIC CARS            1.000000      3\n",
       "HONDA                           0.988152    844\n",
       "KIA                             0.684170   2628\n",
       "HYUNDAI                         0.659824    682\n",
       "BMW                             0.641382   5181\n",
       "VOLVO                           0.457412   3076\n",
       "TOYOTA                          0.455132   6664\n",
       "MITSUBISHI                      0.423729    944\n",
       "MERCEDES-BENZ                   0.305970    402\n",
       "LAND ROVER                      0.238095     63\n",
       "FORD                            0.116179   3727\n",
       "PORSCHE                         0.011650    515\n",
       "JEEP                            0.000000   5141\n",
       "AUDI                            0.000000   1524\n",
       "MAZDA                           0.000000    623\n",
       "LINCOLN                         0.000000    288\n",
       "MINI                            0.000000    221\n",
       "SUBARU                          0.000000     67\n",
       "BENTLEY                         0.000000      4"
      ]
     },
     "execution_count": 3,
     "metadata": {},
     "output_type": "execute_result"
    }
   ],
   "source": [
    "phev = copy.deepcopy(data.loc[data[\"Electric Vehicle Type\"].map(lambda x: x.endswith(\"(PHEV)\"))])\n",
    "phev_summary=\\\n",
    "phev.groupby(\"Make\").agg({\"CAFV_indicator\": \"mean\", \"Model\": \"count\"}).\\\n",
    "rename(columns={\"CAFV_indicator\": \"proportion of CAFV\", \"Model\": \"count\"}).\\\n",
    "sort_values([\"proportion of CAFV\", \"count\"], ascending=False)\n",
    "phev_summary"
   ]
  },
  {
   "cell_type": "code",
   "execution_count": 4,
   "id": "e1d4c918-ae12-4c21-8836-37140340067d",
   "metadata": {},
   "outputs": [],
   "source": [
    "phev_partial=\\\n",
    "phev_summary.loc[~phev_summary[\"proportion of CAFV\"].isin([0., 1.])].index.tolist()"
   ]
  },
  {
   "cell_type": "code",
   "execution_count": 5,
   "id": "e7dfae5c-3e45-4488-9684-7a61ced12376",
   "metadata": {},
   "outputs": [
    {
     "data": {
      "text/plain": [
       "Make            FORD\n",
       "Model         ESCAPE\n",
       "Model Year      2023\n",
       "Name: 2578, dtype: object"
      ]
     },
     "execution_count": 5,
     "metadata": {},
     "output_type": "execute_result"
    }
   ],
   "source": [
    "phev.loc[phev[\"Make\"].isin(phev_partial), [\"Make\", \"Model\", \"Model Year\"]].drop_duplicates().iloc[110]"
   ]
  },
  {
   "cell_type": "code",
   "execution_count": 6,
   "id": "a97e35fe-ee7e-4cac-b3fa-312459865bbb",
   "metadata": {
    "tags": []
   },
   "outputs": [],
   "source": [
    "# make, model, year = \"ford\", \"escape\", 2023\n",
    "# url=f\"https://www.kbb.com/{make}/{model}/{year}/\"\n",
    "# get_text_from_url(url)"
   ]
  },
  {
   "cell_type": "code",
   "execution_count": 7,
   "id": "f0599756-8786-4d8f-b535-b5d1bc2aa709",
   "metadata": {},
   "outputs": [
    {
     "data": {
      "text/plain": [
       "515"
      ]
     },
     "execution_count": 7,
     "metadata": {},
     "output_type": "execute_result"
    }
   ],
   "source": [
    "len(data.loc[:, [\"Make\", \"Model\", \"Model Year\", \"Make-Model-Year\"]].drop_duplicates())"
   ]
  },
  {
   "cell_type": "code",
   "execution_count": 8,
   "id": "4f87251e-5960-4159-9918-74556a962c46",
   "metadata": {
    "tags": []
   },
   "outputs": [],
   "source": [
    "# # df =\\\n",
    "# # phev.loc[phev[\"Make\"].isin(phev_partial), [\"Make\", \"Model\", \"Model Year\", \"Make-Model-Year\"]].drop_duplicates()\n",
    "\n",
    "# df=\\\n",
    "# data.loc[:, [\"Make\", \"Model\", \"Model Year\", \"Make-Model-Year\"]].drop_duplicates()\n",
    "\n",
    "# review_dict = {}\n",
    "\n",
    "# for i, (index, row) in enumerate(df.iterrows(), start=1):\n",
    "\n",
    "#     print(f\"{i}\", end='\\t')\n",
    "#     make, model, year = row[\"Make\"].lower(), row[\"Model\"].lower(), row[\"Model Year\"]\n",
    "#     make, model = \"-\".join(make.split()), \"-\".join(model.split())\n",
    "#     url=f\"https://www.kbb.com/\"+\"/\".join([make, model, str(year)]) + \"/\"\n",
    "#     time.sleep(1)\n",
    "#     try:\n",
    "#         response = get_text_from_url(url)\n",
    "#         if response.startswith(\"Car Finder\"):\n",
    "#             make_model=\"-\".join([row[\"Make\"], row[\"Model\"]])\n",
    "#             response = get_text_from_url(f\"https://www.kbb.com/\"+\"/\".join([make, model]) + \"/\")\n",
    "            \n",
    "#         if not response.startswith(\"Car Finder\"):\n",
    "#             review_dict[row[\"Make-Model-Year\"]] = response\n",
    "#             print(f\"{response[:25]}\")\n",
    "#     except Exception as e:\n",
    "#         print(e)\n",
    "        \n",
    "# # with open('review_dict.pkl', 'wb') as fp:\n",
    "# #     pickle.dump(review_dict, fp)"
   ]
  },
  {
   "cell_type": "code",
   "execution_count": 9,
   "id": "6ff74284-b65d-4c85-a0cb-93feb6628226",
   "metadata": {},
   "outputs": [
    {
     "data": {
      "text/plain": [
       "419"
      ]
     },
     "execution_count": 9,
     "metadata": {},
     "output_type": "execute_result"
    }
   ],
   "source": [
    "len(review_dict)"
   ]
  },
  {
   "cell_type": "code",
   "execution_count": 10,
   "id": "243ac950-08ca-40d0-831c-68cfb26d3b3d",
   "metadata": {},
   "outputs": [],
   "source": [
    "END_SENTENCE=\\\n",
    "\"What did you think of this review?\""
   ]
  },
  {
   "cell_type": "code",
   "execution_count": 11,
   "id": "035064ec-4593-4e13-835c-fad9b64b5803",
   "metadata": {},
   "outputs": [],
   "source": [
    "for elm in review_dict.copy():\n",
    "    start_index=\\\n",
    "    review_dict[elm].find(END_SENTENCE)\n",
    "\n",
    "    review_dict[elm]=review_dict[elm][:start_index]"
   ]
  },
  {
   "cell_type": "code",
   "execution_count": 12,
   "id": "d0f23dba-d4c1-4e75-a667-195d978c6fac",
   "metadata": {},
   "outputs": [],
   "source": [
    "phev_partial_dict = {}"
   ]
  },
  {
   "cell_type": "code",
   "execution_count": 13,
   "id": "79409bd0-ae22-45c4-84ef-4543b1683566",
   "metadata": {},
   "outputs": [],
   "source": [
    "for part in phev_partial:\n",
    "    for elm in review_dict:\n",
    "        if elm.startswith(part):\n",
    "            phev_partial_dict[elm] = review_dict[elm]"
   ]
  },
  {
   "cell_type": "code",
   "execution_count": 14,
   "id": "575b1849-df3b-423c-bffa-3ccfe5117766",
   "metadata": {},
   "outputs": [
    {
     "name": "stdout",
     "output_type": "stream",
     "text": [
      "Making bigrams...\n",
      "Lemmatizing...\n"
     ]
    }
   ],
   "source": [
    "nlp_pipe = NLPpipe()\n",
    "term_doc = nlp_pipe.fit_transform(pd.Series(review_dict), min_count = 3, threshold = -0.5)\n",
    "# tf_idf = nlp_pipe.transform(reviews, tf_idf = True)\n",
    "data_lemmatized = nlp_pipe.clean_text\n",
    "dictionary = create_dictionary(data_lemmatized)"
   ]
  },
  {
   "cell_type": "markdown",
   "id": "0f788eae-592b-4761-b07e-5dc7dbbe8740",
   "metadata": {},
   "source": [
    "### LDA-Mallet"
   ]
  },
  {
   "cell_type": "code",
   "execution_count": 15,
   "id": "040e5de8-dabf-42e4-95b2-d5a1d366b199",
   "metadata": {
    "tags": []
   },
   "outputs": [],
   "source": [
    "NUM_TOPICS=3"
   ]
  },
  {
   "cell_type": "code",
   "execution_count": 16,
   "id": "cee9cc05-3c16-4b1a-9266-f4a9963af5b3",
   "metadata": {
    "tags": []
   },
   "outputs": [
    {
     "name": "stdout",
     "output_type": "stream",
     "text": [
      "Exception Command '/Users/jungakim/Desktop/Everything/CourseWork/analytics/Mallet-202108/bin/mallet import-file --preserve-case --keep-sequence --remove-stopwords --token-regex \"\\S+\" --input /var/folders/tg/r016s5t1663g7dr5vm02vbyr0000gn/T/6d2fb0_corpus.txt --output /var/folders/tg/r016s5t1663g7dr5vm02vbyr0000gn/T/6d2fb0_corpus.mallet' returned non-zero exit status 127.\n"
     ]
    }
   ],
   "source": [
    "MALLET_FOLDER= 'Mallet-202108'\n",
    "# MALLET_FOLDER= 'Mallet-2.0.8RC1'\n",
    "# MALLET_FOLDER= 'Mallet-2.0.8RC3'\n",
    "# MALLET_FOLDER= 'Mallet-202108'\n",
    "\n",
    "try:\n",
    "    mallet_path = f'/Users/jungakim/Desktop/Everything/CourseWork/analytics/{MALLET_FOLDER}/bin/mallet' # update this path\n",
    "    ldamallet = gensim.models.wrappers.LdaMallet(mallet_path, \n",
    "                                                 corpus = term_doc,\n",
    "                                                 num_topics = NUM_TOPICS, \n",
    "                                                 random_seed = 100,\n",
    "                                                 id2word = dictionary,\n",
    "                                                 alpha = 'auto')\n",
    "    \n",
    "    # Visualize the topics\n",
    "    model = gensim.models.wrappers.ldamallet.malletmodel2ldamodel(ldamallet)\n",
    "    pyLDAvis.enable_notebook()\n",
    "    \n",
    "    vis = pyLDAvis.gensim.prepare(model, term_doc, dictionary)\n",
    "    pyLDAvis.save_html(vis, f'mallet-{NUM_TOPICS}.html')\n",
    "    \n",
    "except Exception as e:\n",
    "    print(f\"Exception {e}\")"
   ]
  },
  {
   "cell_type": "code",
   "execution_count": null,
   "id": "6ca69016-af16-494b-83c9-9a0d886905a4",
   "metadata": {},
   "outputs": [],
   "source": []
  },
  {
   "cell_type": "markdown",
   "id": "0ea7e273-874e-4ce6-b746-8ac98f634199",
   "metadata": {},
   "source": [
    "### LDA-Standard"
   ]
  },
  {
   "cell_type": "code",
   "execution_count": 17,
   "id": "951015b8-2b68-488e-94a3-9d8dd4116d28",
   "metadata": {},
   "outputs": [],
   "source": [
    "NUM_TOPICS=3\n",
    "lda_model = gensim.models.ldamodel.LdaModel(corpus=term_doc,\n",
    "                                           id2word=dictionary,\n",
    "                                           num_topics= NUM_TOPICS, \n",
    "                                           random_state=100,\n",
    "                                           update_every=1,\n",
    "                                           chunksize=2000,\n",
    "                                           passes=10,\n",
    "                                           # alpha= 'auto',\n",
    "                                           per_word_topics=True)"
   ]
  },
  {
   "cell_type": "code",
   "execution_count": 18,
   "id": "348cbb17-3c7a-4235-a36a-7c6e2cfcb4de",
   "metadata": {},
   "outputs": [],
   "source": [
    "vis_data = pyLDAvis.gensim.prepare(lda_model, term_doc, dictionary, sort_topics=False)\n",
    "pyLDAvis.save_html(vis_data, f'ev-lda-num-topics-whole-{NUM_TOPICS}.html')"
   ]
  },
  {
   "cell_type": "code",
   "execution_count": null,
   "id": "ce676e2c-5da3-418d-ad0f-d3ddd0b884b9",
   "metadata": {},
   "outputs": [],
   "source": []
  },
  {
   "cell_type": "code",
   "execution_count": null,
   "id": "c852c265-3f27-43ce-8a07-f549834275d3",
   "metadata": {},
   "outputs": [],
   "source": []
  },
  {
   "cell_type": "code",
   "execution_count": null,
   "id": "984b4270-65fd-4548-bde2-c9d2ff2ea232",
   "metadata": {},
   "outputs": [],
   "source": [
    "# nlp = NLPpipe()\n",
    "# nlp.fit(pd.Series(review_dict))\n",
    "# doc_term = nlp.transform(pd.Series(review_dict))\n",
    "# doc_term"
   ]
  },
  {
   "cell_type": "code",
   "execution_count": 43,
   "id": "491abb13-a549-4bf8-bc65-e7af0cd917f7",
   "metadata": {},
   "outputs": [],
   "source": [
    "# url =\\\n",
    "# \"https://ev-database.org/compare/newest-upcoming-electric-vehicle#sort:path~type~order=.id~number~desc|rs-price:prev~next=10000~100000|rs-range:prev~next=0~1000|rs-fastcharge:prev~next=0~1500|rs-acceleration:prev~next=2~23|rs-topspeed:prev~next=110~350|rs-battery:prev~next=10~200|rs-towweight:prev~next=0~2500|rs-eff:prev~next=100~350|rs-safety:prev~next=-1~5|paging:currentPage=0|paging:number=10\"\n",
    "\n",
    "# url=\\\n",
    "# \"https://ev-database.org/car/2237/Hyundai-IONIQ-5-84-kWh-AWD\"\n",
    "\n",
    "# url=\\\n",
    "# \"https://kbb.com/robots.txt\"\n",
    "\n",
    "# make, model, year = \"volvo\", \"s60\", \"2023\"\n",
    "\n",
    "# url=\\\n",
    "# f\"https://www.kbb.com/{make}/{model}/{year}/\"\n",
    "\n",
    "# uclient = uReq(url)\n",
    "\n",
    "# page_html = uclient.read()\n",
    "# uclient.close()\n",
    "\n",
    "# soup=BeautifulSoup(page_html, \"html.parser\")\n",
    "# text=soup.get_text()\n",
    "# # break into lines and remove leading and trailing space on each\n",
    "# lines = (line.strip() for line in text.splitlines())\n",
    "# # break multi-headlines into a line each\n",
    "# chunks = (phrase.strip() for line in lines for phrase in line.split(\"  \"))\n",
    "# # drop blank lines\n",
    "# text = '\\n'.join(chunk for chunk in chunks if chunk)\n",
    "# chunks = text.split(\"\\n\")\n",
    "# # print(text)"
   ]
  }
 ],
 "metadata": {
  "kernelspec": {
   "display_name": "electricvehicle",
   "language": "python",
   "name": "electricvehicle"
  },
  "language_info": {
   "codemirror_mode": {
    "name": "ipython",
    "version": 3
   },
   "file_extension": ".py",
   "mimetype": "text/x-python",
   "name": "python",
   "nbconvert_exporter": "python",
   "pygments_lexer": "ipython3",
   "version": "3.7.7"
  }
 },
 "nbformat": 4,
 "nbformat_minor": 5
}
