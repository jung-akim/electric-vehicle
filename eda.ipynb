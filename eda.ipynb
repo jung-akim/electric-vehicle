{
 "cells": [
  {
   "cell_type": "markdown",
   "id": "49891d62-2ac9-47ba-a304-68cd93ed8750",
   "metadata": {},
   "source": [
    "[Electric Vehicle Population Data](https://catalog.data.gov/dataset/electric-vehicle-population-data)<br>\n",
    "Metadata Updated: July 20, 2024\n",
    "<br><br>\n",
    "This dataset shows the Battery Electric Vehicles (BEVs) and Plug-in Hybrid Electric Vehicles (PHEVs) that are currently registered through Washington State Department of Licensing (DOL)."
   ]
  },
  {
   "cell_type": "code",
   "execution_count": 1,
   "id": "005b5502-031f-400f-8636-286b89d1cc01",
   "metadata": {},
   "outputs": [],
   "source": [
    "import pandas as pd\n",
    "from fuzzywuzzy import fuzz\n",
    "import copy\n",
    "from sentence_transformers import SentenceTransformer\n",
    "model = SentenceTransformer(\"all-MiniLM-L6-v2\")\n",
    "from sklearn.metrics.pairwise import cosine_similarity\n",
    "\n",
    "data = pd.read_csv(\"../data/data.gov/Electric_Vehicle_Population_Data.csv\")\n",
    "data[\"CAFV_indicator\"] = data[\"Clean Alternative Fuel Vehicle (CAFV) Eligibility\"] == \"Clean Alternative Fuel Vehicle Eligible\"\n",
    "data[\"Make-Model-Year\"] = data[[\"Make\", \"Model\", \"Model Year\"]].apply(lambda g: g[0] + \"-\" + g[1] + \"-\" + str(g[2]), axis=1)\n",
    "data[\"Model-Year\"] = data[[\"Model\", \"Model Year\"]].apply(lambda g: g[0]+\"-\"+str(g[1]),axis=1)\n",
    "\n",
    "exempt_list = pd.read_csv(\"../data/data.gov/WA_Tax_Exemptions_-_Potential_Eligibility_by_Make_Model_Excluding_Vehicle_Price_Criteria_20240730.csv\")"
   ]
  },
  {
   "cell_type": "code",
   "execution_count": 2,
   "id": "30d6a2dc-2181-4216-bc15-ed4d29b7a4c7",
   "metadata": {},
   "outputs": [
    {
     "data": {
      "text/plain": [
       "['VIN (1-10)',\n",
       " 'County',\n",
       " 'City',\n",
       " 'State',\n",
       " 'Postal Code',\n",
       " 'Model Year',\n",
       " 'Make',\n",
       " 'Model',\n",
       " 'Electric Vehicle Type',\n",
       " 'Clean Alternative Fuel Vehicle (CAFV) Eligibility',\n",
       " 'Electric Range',\n",
       " 'Base MSRP',\n",
       " 'Legislative District',\n",
       " 'DOL Vehicle ID',\n",
       " 'Vehicle Location',\n",
       " 'Electric Utility',\n",
       " '2020 Census Tract',\n",
       " 'CAFV_indicator',\n",
       " 'Make-Model-Year',\n",
       " 'Model-Year']"
      ]
     },
     "execution_count": 2,
     "metadata": {},
     "output_type": "execute_result"
    }
   ],
   "source": [
    "data.columns.tolist()"
   ]
  },
  {
   "cell_type": "markdown",
   "id": "a6f563b0-4f43-468e-acf5-01cbd16a83e9",
   "metadata": {},
   "source": [
    "\"To be eligible for the exemptions, the vehicle must be capable of traveling at least thirty miles using only battery power.\""
   ]
  },
  {
   "cell_type": "code",
   "execution_count": 3,
   "id": "95ddc7f8-8692-4918-92ba-78274571e8e4",
   "metadata": {},
   "outputs": [
    {
     "data": {
      "text/plain": [
       "Eligibility unknown as battery range has not been researched    0.538717\n",
       "Clean Alternative Fuel Vehicle Eligible                         0.354298\n",
       "Not eligible due to low battery range                           0.106985\n",
       "Name: Clean Alternative Fuel Vehicle (CAFV) Eligibility, dtype: float64"
      ]
     },
     "execution_count": 3,
     "metadata": {},
     "output_type": "execute_result"
    }
   ],
   "source": [
    "data[\"Clean Alternative Fuel Vehicle (CAFV) Eligibility\"].value_counts(normalize=True, dropna=False) \n"
   ]
  },
  {
   "cell_type": "code",
   "execution_count": 4,
   "id": "36da658b-24ec-4c8c-afd6-93c808700c9e",
   "metadata": {},
   "outputs": [
    {
     "data": {
      "text/plain": [
       "30.0     1636\n",
       "31.0       97\n",
       "32.0     4607\n",
       "33.0     1346\n",
       "34.0      738\n",
       "         ... \n",
       "308.0     508\n",
       "322.0    1717\n",
       "330.0     331\n",
       "337.0      82\n",
       "NaN         2\n",
       "Name: Electric Range, Length: 81, dtype: int64"
      ]
     },
     "execution_count": 4,
     "metadata": {},
     "output_type": "execute_result"
    }
   ],
   "source": [
    "data.loc[data.CAFV_indicator][\"Electric Range\"].value_counts(dropna=False).sort_index()"
   ]
  },
  {
   "cell_type": "code",
   "execution_count": 5,
   "id": "1269b947-8494-4fb6-86b7-a6bb45103d17",
   "metadata": {},
   "outputs": [
    {
     "data": {
      "text/plain": [
       "Battery Electric Vehicle (BEV)            152179\n",
       "Plug-in Hybrid Electric Vehicle (PHEV)     42053\n",
       "Name: Electric Vehicle Type, dtype: int64"
      ]
     },
     "execution_count": 5,
     "metadata": {},
     "output_type": "execute_result"
    }
   ],
   "source": [
    "data[\"Electric Vehicle Type\"].value_counts()"
   ]
  },
  {
   "cell_type": "markdown",
   "id": "b2fbb28d-23cf-4b26-a117-98a8c9537096",
   "metadata": {},
   "source": [
    "Note from the 'About this Dataset' section: <br>\n",
    "\"Electric Range is no longer maintained for Battery Electric Vehicles (BEV) because new BEVs have an electric range of 30 miles or more. Zero (0) will be entered where the electric range has not been researched.\""
   ]
  },
  {
   "cell_type": "markdown",
   "id": "3ebf8b20-40c0-4b90-940e-e459fed166ff",
   "metadata": {},
   "source": [
    "It might be that \"new BEVs\" from the note is those made in year starting from 2021"
   ]
  },
  {
   "cell_type": "code",
   "execution_count": 110,
   "id": "a470ea13-8f2f-4c57-877e-3fcdb6b167a2",
   "metadata": {},
   "outputs": [
    {
     "data": {
      "text/plain": [
       "2025       18\n",
       "2024    13793\n",
       "2023    52165\n",
       "2022    23730\n",
       "2021    14839\n",
       "2020       82\n",
       "2019        3\n",
       "2013        6\n",
       "Name: Model Year, dtype: int64"
      ]
     },
     "execution_count": 110,
     "metadata": {},
     "output_type": "execute_result"
    }
   ],
   "source": [
    "notCAFV = data.loc[~data.CAFV_indicator & (data[\"Electric Range\"] == 0)]\n",
    "notCAFV = copy.deepcopy(notCAFV)\n",
    "notCAFV.loc[notCAFV[\"Electric Vehicle Type\"].map(lambda x: x.endswith(\"(BEV)\")), \"Model Year\"].value_counts(dropna=False).sort_index(ascending=False)"
   ]
  },
  {
   "cell_type": "markdown",
   "id": "b083b381-dd1b-4339-9649-da74e4ddb233",
   "metadata": {},
   "source": [
    "Creating similarity score with the tax exemption dataset of vehicle model description imported from the website.<br>\n",
    "This is to see if the newer BEV are eligible for CAFV criteria"
   ]
  },
  {
   "cell_type": "code",
   "execution_count": 111,
   "id": "4575969a-0f3c-4c24-b1ee-1df2c8fdc797",
   "metadata": {},
   "outputs": [],
   "source": [
    "\n",
    "similarity_list = []\n",
    "for data_modelname in set(data.loc[(data[\"Electric Vehicle Type\"].map(lambda x: x.endswith(\"(BEV)\")))&(data[\"Electric Range\"] == 0)][\"Model\"].tolist()):\n",
    "    for exempt_modelname in set(exempt_list[\"Vehicle Model Description\"].tolist()):\n",
    "        sim_score = fuzz.ratio(data_modelname.lower(), exempt_modelname.lower())\n",
    "        # sim_score = cosine_similarity(embeddings1, embeddings2)[0][0]\n",
    "        # embeddings1 = model.encode([data_modelname], normalize_embeddings=True)\n",
    "        # embeddings2 = model.encode([exempt_modelname], normalize_embeddings=True)\n",
    "        similarity_list.append((data_modelname, exempt_modelname, sim_score))\n",
    "        # print(f\"{data_modelname} and {exempt_modelname} have {sim_score}\")\n",
    "similarity_list=sorted(similarity_list, key=lambda x: x[-1], reverse=True)\n",
    "\n",
    "similarity_dict = {}\n",
    "for model_name, exempt_name, score in similarity_list:\n",
    "    # print(model_name, exempt_name, score)\n",
    "    if model_name not in similarity_dict:\n",
    "        similarity_dict[model_name] = exempt_name, score\n",
    "        \n",
    "notCAFV['exempt_list_name'] = None\n",
    "notCAFV['sim_score'] = None\n",
    "notCAFV[\"exempt_list_name\"] = notCAFV[\"Model\"].map(lambda x: similarity_dict[x][0])\n",
    "notCAFV[\"sim_score\"] = notCAFV[\"Model\"].map(lambda x: similarity_dict[x][1])"
   ]
  },
  {
   "cell_type": "markdown",
   "id": "738dd36c-4dc1-4df0-b675-f31d177f9057",
   "metadata": {},
   "source": [
    "Using the similarity score, many of the vehicle models are in the exemption list made after year 2020.\n",
    "- For year 2025, it's in the future and I think it is safe to assume the future BEVs are already CAFV without having to know electric mileage based on the note from the website.\n",
    "- Thus, I will assign CAFV indicator as `True` with BEV model year on and after 2020 that have electric mileage as zero"
   ]
  },
  {
   "cell_type": "code",
   "execution_count": null,
   "id": "8d005fd2-b122-4a3d-860e-337e6b316dd9",
   "metadata": {},
   "outputs": [
    {
     "data": {
      "text/html": [
       "<div>\n",
       "<style scoped>\n",
       "    .dataframe tbody tr th:only-of-type {\n",
       "        vertical-align: middle;\n",
       "    }\n",
       "\n",
       "    .dataframe tbody tr th {\n",
       "        vertical-align: top;\n",
       "    }\n",
       "\n",
       "    .dataframe thead th {\n",
       "        text-align: right;\n",
       "    }\n",
       "</style>\n",
       "<table border=\"1\" class=\"dataframe\">\n",
       "  <thead>\n",
       "    <tr style=\"text-align: right;\">\n",
       "      <th></th>\n",
       "      <th>sim_score</th>\n",
       "    </tr>\n",
       "    <tr>\n",
       "      <th>Model Year</th>\n",
       "      <th></th>\n",
       "    </tr>\n",
       "  </thead>\n",
       "  <tbody>\n",
       "    <tr>\n",
       "      <th>2013</th>\n",
       "      <td>57.000000</td>\n",
       "    </tr>\n",
       "    <tr>\n",
       "      <th>2019</th>\n",
       "      <td>71.000000</td>\n",
       "    </tr>\n",
       "    <tr>\n",
       "      <th>2020</th>\n",
       "      <td>89.939024</td>\n",
       "    </tr>\n",
       "    <tr>\n",
       "      <th>2021</th>\n",
       "      <td>88.365321</td>\n",
       "    </tr>\n",
       "    <tr>\n",
       "      <th>2022</th>\n",
       "      <td>85.621955</td>\n",
       "    </tr>\n",
       "    <tr>\n",
       "      <th>2023</th>\n",
       "      <td>85.063357</td>\n",
       "    </tr>\n",
       "    <tr>\n",
       "      <th>2024</th>\n",
       "      <td>79.247734</td>\n",
       "    </tr>\n",
       "    <tr>\n",
       "      <th>2025</th>\n",
       "      <td>71.111111</td>\n",
       "    </tr>\n",
       "  </tbody>\n",
       "</table>\n",
       "</div>"
      ],
      "text/plain": [
       "            sim_score\n",
       "Model Year           \n",
       "2013        57.000000\n",
       "2019        71.000000\n",
       "2020        89.939024\n",
       "2021        88.365321\n",
       "2022        85.621955\n",
       "2023        85.063357\n",
       "2024        79.247734\n",
       "2025        71.111111"
      ]
     },
     "execution_count": 118,
     "metadata": {},
     "output_type": "execute_result"
    }
   ],
   "source": [
    "notCAFV.groupby(\"Model Year\").agg({\"sim_score\":\"mean\"}).sort_index()"
   ]
  },
  {
   "cell_type": "code",
   "execution_count": 136,
   "id": "497f3667-2aa0-4074-92ac-4b3a9b9c0556",
   "metadata": {},
   "outputs": [],
   "source": [
    "data.iloc[notCAFV.loc[notCAFV[\"Model Year\"] >= 2020].index.tolist(), 17] = True"
   ]
  },
  {
   "cell_type": "code",
   "execution_count": 139,
   "id": "604a5e60-dc24-41c6-be9f-bc9a9007787a",
   "metadata": {},
   "outputs": [
    {
     "data": {
      "text/html": [
       "<div>\n",
       "<style scoped>\n",
       "    .dataframe tbody tr th:only-of-type {\n",
       "        vertical-align: middle;\n",
       "    }\n",
       "\n",
       "    .dataframe tbody tr th {\n",
       "        vertical-align: top;\n",
       "    }\n",
       "\n",
       "    .dataframe thead th {\n",
       "        text-align: right;\n",
       "    }\n",
       "</style>\n",
       "<table border=\"1\" class=\"dataframe\">\n",
       "  <thead>\n",
       "    <tr style=\"text-align: right;\">\n",
       "      <th></th>\n",
       "      <th>CAFV_indicator</th>\n",
       "    </tr>\n",
       "    <tr>\n",
       "      <th>Electric Vehicle Type</th>\n",
       "      <th></th>\n",
       "    </tr>\n",
       "  </thead>\n",
       "  <tbody>\n",
       "    <tr>\n",
       "      <th>Battery Electric Vehicle (BEV)</th>\n",
       "      <td>0.999888</td>\n",
       "    </tr>\n",
       "    <tr>\n",
       "      <th>Plug-in Hybrid Electric Vehicle (PHEV)</th>\n",
       "      <td>0.506052</td>\n",
       "    </tr>\n",
       "  </tbody>\n",
       "</table>\n",
       "</div>"
      ],
      "text/plain": [
       "                                        CAFV_indicator\n",
       "Electric Vehicle Type                                 \n",
       "Battery Electric Vehicle (BEV)                0.999888\n",
       "Plug-in Hybrid Electric Vehicle (PHEV)        0.506052"
      ]
     },
     "execution_count": 139,
     "metadata": {},
     "output_type": "execute_result"
    }
   ],
   "source": [
    "data.groupby(\"Electric Vehicle Type\").agg({\"CAFV_indicator\":\"mean\"})"
   ]
  },
  {
   "cell_type": "code",
   "execution_count": 58,
   "id": "48f8228b-c20f-4050-9d86-a0d3aeaba999",
   "metadata": {},
   "outputs": [
    {
     "data": {
      "text/plain": [
       "0.5060283940928872"
      ]
     },
     "execution_count": 58,
     "metadata": {},
     "output_type": "execute_result"
    }
   ],
   "source": [
    "data.loc[(data[\"Electric Vehicle Type\"].map(lambda x: x.endswith(\"(PHEV)\"))) & (data['Electric Range'] > 0)].CAFV_indicator.mean()"
   ]
  },
  {
   "cell_type": "code",
   "execution_count": 140,
   "id": "4b25a00a-4462-4a94-9383-65616be67df6",
   "metadata": {},
   "outputs": [
    {
     "data": {
      "text/html": [
       "<div>\n",
       "<style scoped>\n",
       "    .dataframe tbody tr th:only-of-type {\n",
       "        vertical-align: middle;\n",
       "    }\n",
       "\n",
       "    .dataframe tbody tr th {\n",
       "        vertical-align: top;\n",
       "    }\n",
       "\n",
       "    .dataframe thead th {\n",
       "        text-align: right;\n",
       "    }\n",
       "</style>\n",
       "<table border=\"1\" class=\"dataframe\">\n",
       "  <thead>\n",
       "    <tr style=\"text-align: right;\">\n",
       "      <th></th>\n",
       "      <th>proportion of CAFV</th>\n",
       "      <th>count</th>\n",
       "    </tr>\n",
       "    <tr>\n",
       "      <th>Make</th>\n",
       "      <th></th>\n",
       "      <th></th>\n",
       "    </tr>\n",
       "  </thead>\n",
       "  <tbody>\n",
       "    <tr>\n",
       "      <th>ACURA</th>\n",
       "      <td>1.000000</td>\n",
       "      <td>8</td>\n",
       "    </tr>\n",
       "    <tr>\n",
       "      <th>GMC</th>\n",
       "      <td>1.000000</td>\n",
       "      <td>17</td>\n",
       "    </tr>\n",
       "    <tr>\n",
       "      <th>VOLKSWAGEN</th>\n",
       "      <td>1.000000</td>\n",
       "      <td>5483</td>\n",
       "    </tr>\n",
       "    <tr>\n",
       "      <th>TH!NK</th>\n",
       "      <td>1.000000</td>\n",
       "      <td>5</td>\n",
       "    </tr>\n",
       "    <tr>\n",
       "      <th>TESLA</th>\n",
       "      <td>1.000000</td>\n",
       "      <td>85320</td>\n",
       "    </tr>\n",
       "    <tr>\n",
       "      <th>SMART</th>\n",
       "      <td>1.000000</td>\n",
       "      <td>259</td>\n",
       "    </tr>\n",
       "    <tr>\n",
       "      <th>ROLLS-ROYCE</th>\n",
       "      <td>1.000000</td>\n",
       "      <td>2</td>\n",
       "    </tr>\n",
       "    <tr>\n",
       "      <th>RIVIAN</th>\n",
       "      <td>1.000000</td>\n",
       "      <td>4912</td>\n",
       "    </tr>\n",
       "    <tr>\n",
       "      <th>RAM</th>\n",
       "      <td>1.000000</td>\n",
       "      <td>2</td>\n",
       "    </tr>\n",
       "    <tr>\n",
       "      <th>POLESTAR</th>\n",
       "      <td>1.000000</td>\n",
       "      <td>1039</td>\n",
       "    </tr>\n",
       "    <tr>\n",
       "      <th>NISSAN</th>\n",
       "      <td>1.000000</td>\n",
       "      <td>14360</td>\n",
       "    </tr>\n",
       "    <tr>\n",
       "      <th>LUCID</th>\n",
       "      <td>1.000000</td>\n",
       "      <td>265</td>\n",
       "    </tr>\n",
       "    <tr>\n",
       "      <th>ALFA ROMEO</th>\n",
       "      <td>1.000000</td>\n",
       "      <td>59</td>\n",
       "    </tr>\n",
       "    <tr>\n",
       "      <th>JAGUAR</th>\n",
       "      <td>1.000000</td>\n",
       "      <td>234</td>\n",
       "    </tr>\n",
       "    <tr>\n",
       "      <th>LEXUS</th>\n",
       "      <td>1.000000</td>\n",
       "      <td>641</td>\n",
       "    </tr>\n",
       "    <tr>\n",
       "      <th>FIAT</th>\n",
       "      <td>1.000000</td>\n",
       "      <td>793</td>\n",
       "    </tr>\n",
       "    <tr>\n",
       "      <th>FISKER</th>\n",
       "      <td>1.000000</td>\n",
       "      <td>186</td>\n",
       "    </tr>\n",
       "    <tr>\n",
       "      <th>AZURE DYNAMICS</th>\n",
       "      <td>1.000000</td>\n",
       "      <td>5</td>\n",
       "    </tr>\n",
       "    <tr>\n",
       "      <th>CADILLAC</th>\n",
       "      <td>1.000000</td>\n",
       "      <td>630</td>\n",
       "    </tr>\n",
       "    <tr>\n",
       "      <th>CHEVROLET</th>\n",
       "      <td>1.000000</td>\n",
       "      <td>14578</td>\n",
       "    </tr>\n",
       "    <tr>\n",
       "      <th>CHRYSLER</th>\n",
       "      <td>1.000000</td>\n",
       "      <td>3484</td>\n",
       "    </tr>\n",
       "    <tr>\n",
       "      <th>DODGE</th>\n",
       "      <td>1.000000</td>\n",
       "      <td>631</td>\n",
       "    </tr>\n",
       "    <tr>\n",
       "      <th>WHEEGO ELECTRIC CARS</th>\n",
       "      <td>1.000000</td>\n",
       "      <td>3</td>\n",
       "    </tr>\n",
       "    <tr>\n",
       "      <th>GENESIS</th>\n",
       "      <td>1.000000</td>\n",
       "      <td>239</td>\n",
       "    </tr>\n",
       "    <tr>\n",
       "      <th>HONDA</th>\n",
       "      <td>0.981859</td>\n",
       "      <td>882</td>\n",
       "    </tr>\n",
       "    <tr>\n",
       "      <th>HYUNDAI</th>\n",
       "      <td>0.953079</td>\n",
       "      <td>5115</td>\n",
       "    </tr>\n",
       "    <tr>\n",
       "      <th>SUBARU</th>\n",
       "      <td>0.937442</td>\n",
       "      <td>1071</td>\n",
       "    </tr>\n",
       "    <tr>\n",
       "      <th>KIA</th>\n",
       "      <td>0.901965</td>\n",
       "      <td>8497</td>\n",
       "    </tr>\n",
       "    <tr>\n",
       "      <th>MERCEDES-BENZ</th>\n",
       "      <td>0.847791</td>\n",
       "      <td>1833</td>\n",
       "    </tr>\n",
       "    <tr>\n",
       "      <th>MINI</th>\n",
       "      <td>0.778779</td>\n",
       "      <td>999</td>\n",
       "    </tr>\n",
       "    <tr>\n",
       "      <th>BMW</th>\n",
       "      <td>0.772025</td>\n",
       "      <td>8150</td>\n",
       "    </tr>\n",
       "    <tr>\n",
       "      <th>FORD</th>\n",
       "      <td>0.679135</td>\n",
       "      <td>10266</td>\n",
       "    </tr>\n",
       "    <tr>\n",
       "      <th>VOLVO</th>\n",
       "      <td>0.634472</td>\n",
       "      <td>4566</td>\n",
       "    </tr>\n",
       "    <tr>\n",
       "      <th>AUDI</th>\n",
       "      <td>0.617758</td>\n",
       "      <td>3987</td>\n",
       "    </tr>\n",
       "    <tr>\n",
       "      <th>PORSCHE</th>\n",
       "      <td>0.578991</td>\n",
       "      <td>1209</td>\n",
       "    </tr>\n",
       "    <tr>\n",
       "      <th>TOYOTA</th>\n",
       "      <td>0.507461</td>\n",
       "      <td>7372</td>\n",
       "    </tr>\n",
       "    <tr>\n",
       "      <th>MITSUBISHI</th>\n",
       "      <td>0.458167</td>\n",
       "      <td>1004</td>\n",
       "    </tr>\n",
       "    <tr>\n",
       "      <th>LAND ROVER</th>\n",
       "      <td>0.238095</td>\n",
       "      <td>63</td>\n",
       "    </tr>\n",
       "    <tr>\n",
       "      <th>MAZDA</th>\n",
       "      <td>0.011111</td>\n",
       "      <td>630</td>\n",
       "    </tr>\n",
       "    <tr>\n",
       "      <th>JEEP</th>\n",
       "      <td>0.000000</td>\n",
       "      <td>5141</td>\n",
       "    </tr>\n",
       "    <tr>\n",
       "      <th>BENTLEY</th>\n",
       "      <td>0.000000</td>\n",
       "      <td>4</td>\n",
       "    </tr>\n",
       "    <tr>\n",
       "      <th>LINCOLN</th>\n",
       "      <td>0.000000</td>\n",
       "      <td>288</td>\n",
       "    </tr>\n",
       "  </tbody>\n",
       "</table>\n",
       "</div>"
      ],
      "text/plain": [
       "                      proportion of CAFV  count\n",
       "Make                                           \n",
       "ACURA                           1.000000      8\n",
       "GMC                             1.000000     17\n",
       "VOLKSWAGEN                      1.000000   5483\n",
       "TH!NK                           1.000000      5\n",
       "TESLA                           1.000000  85320\n",
       "SMART                           1.000000    259\n",
       "ROLLS-ROYCE                     1.000000      2\n",
       "RIVIAN                          1.000000   4912\n",
       "RAM                             1.000000      2\n",
       "POLESTAR                        1.000000   1039\n",
       "NISSAN                          1.000000  14360\n",
       "LUCID                           1.000000    265\n",
       "ALFA ROMEO                      1.000000     59\n",
       "JAGUAR                          1.000000    234\n",
       "LEXUS                           1.000000    641\n",
       "FIAT                            1.000000    793\n",
       "FISKER                          1.000000    186\n",
       "AZURE DYNAMICS                  1.000000      5\n",
       "CADILLAC                        1.000000    630\n",
       "CHEVROLET                       1.000000  14578\n",
       "CHRYSLER                        1.000000   3484\n",
       "DODGE                           1.000000    631\n",
       "WHEEGO ELECTRIC CARS            1.000000      3\n",
       "GENESIS                         1.000000    239\n",
       "HONDA                           0.981859    882\n",
       "HYUNDAI                         0.953079   5115\n",
       "SUBARU                          0.937442   1071\n",
       "KIA                             0.901965   8497\n",
       "MERCEDES-BENZ                   0.847791   1833\n",
       "MINI                            0.778779    999\n",
       "BMW                             0.772025   8150\n",
       "FORD                            0.679135  10266\n",
       "VOLVO                           0.634472   4566\n",
       "AUDI                            0.617758   3987\n",
       "PORSCHE                         0.578991   1209\n",
       "TOYOTA                          0.507461   7372\n",
       "MITSUBISHI                      0.458167   1004\n",
       "LAND ROVER                      0.238095     63\n",
       "MAZDA                           0.011111    630\n",
       "JEEP                            0.000000   5141\n",
       "BENTLEY                         0.000000      4\n",
       "LINCOLN                         0.000000    288"
      ]
     },
     "execution_count": 140,
     "metadata": {},
     "output_type": "execute_result"
    }
   ],
   "source": [
    "data.groupby(\"Make\").agg({\"CAFV_indicator\": \"mean\", \"Model\": \"count\"}).\\\n",
    "rename(columns={\"CAFV_indicator\": \"proportion of CAFV\", \"Model\": \"count\"}).\\\n",
    "sort_values(\"proportion of CAFV\", ascending=False)"
   ]
  },
  {
   "cell_type": "code",
   "execution_count": 141,
   "id": "2ac5aa9b-775d-4129-a8ac-197bbbf24381",
   "metadata": {},
   "outputs": [
    {
     "data": {
      "text/plain": [
       "TESLA                   0.439269\n",
       "CHEVROLET               0.075055\n",
       "NISSAN                  0.073932\n",
       "FORD                    0.052854\n",
       "KIA                     0.043747\n",
       "BMW                     0.041960\n",
       "TOYOTA                  0.037955\n",
       "VOLKSWAGEN              0.028229\n",
       "JEEP                    0.026468\n",
       "HYUNDAI                 0.026334\n",
       "RIVIAN                  0.025289\n",
       "VOLVO                   0.023508\n",
       "AUDI                    0.020527\n",
       "CHRYSLER                0.017937\n",
       "MERCEDES-BENZ           0.009437\n",
       "PORSCHE                 0.006225\n",
       "SUBARU                  0.005514\n",
       "POLESTAR                0.005349\n",
       "MITSUBISHI              0.005169\n",
       "MINI                    0.005143\n",
       "HONDA                   0.004541\n",
       "FIAT                    0.004083\n",
       "LEXUS                   0.003300\n",
       "DODGE                   0.003249\n",
       "CADILLAC                0.003244\n",
       "MAZDA                   0.003244\n",
       "LINCOLN                 0.001483\n",
       "LUCID                   0.001364\n",
       "SMART                   0.001333\n",
       "GENESIS                 0.001230\n",
       "JAGUAR                  0.001205\n",
       "FISKER                  0.000958\n",
       "LAND ROVER              0.000324\n",
       "ALFA ROMEO              0.000304\n",
       "GMC                     0.000088\n",
       "ACURA                   0.000041\n",
       "AZURE DYNAMICS          0.000026\n",
       "TH!NK                   0.000026\n",
       "BENTLEY                 0.000021\n",
       "WHEEGO ELECTRIC CARS    0.000015\n",
       "RAM                     0.000010\n",
       "ROLLS-ROYCE             0.000010\n",
       "Name: Make, dtype: float64"
      ]
     },
     "execution_count": 141,
     "metadata": {},
     "output_type": "execute_result"
    }
   ],
   "source": [
    "data['Make'].value_counts(normalize=True, dropna=False)"
   ]
  },
  {
   "cell_type": "code",
   "execution_count": 17,
   "id": "16dcc4a2-b693-4323-a5e2-e14f0e3dfa81",
   "metadata": {},
   "outputs": [
    {
     "data": {
      "text/plain": [
       "MODEL Y           0.206809\n",
       "MODEL 3           0.159320\n",
       "LEAF              0.069510\n",
       "MODEL S           0.040266\n",
       "BOLT EV           0.033661\n",
       "                    ...   \n",
       "SPECTRE           0.000010\n",
       "PROMASTER 3500    0.000010\n",
       "S-10 PICKUP       0.000005\n",
       "918               0.000005\n",
       "ESPRINTER         0.000005\n",
       "Name: Model, Length: 151, dtype: float64"
      ]
     },
     "execution_count": 17,
     "metadata": {},
     "output_type": "execute_result"
    }
   ],
   "source": [
    "data[\"Model\"].value_counts(normalize=True, dropna=False)"
   ]
  },
  {
   "cell_type": "code",
   "execution_count": 145,
   "id": "1d9bcadc-406b-45eb-b280-20b83d138f72",
   "metadata": {},
   "outputs": [
    {
     "name": "stdout",
     "output_type": "stream",
     "text": [
      "User-agent: *\n",
      "Sitemap: https://ev-database.org/sitemap.xml\n",
      "\n"
     ]
    }
   ],
   "source": [
    "import requests\n",
    "\n",
    "url = 'https://ev-database.org/robots.txt'\n",
    "response  = requests.get(url)\n",
    "print(response.text)"
   ]
  },
  {
   "cell_type": "code",
   "execution_count": 146,
   "id": "4d6a22b8-6046-4201-bd89-83fb107427dc",
   "metadata": {},
   "outputs": [
    {
     "name": "stdout",
     "output_type": "stream",
     "text": [
      "# robots.txt for BoxOfficeMojo\n",
      "User-agent: *\n",
      "Allow: /\n",
      "\n"
     ]
    }
   ],
   "source": [
    "url = 'http://www.boxofficemojo.com/robots.txt'\n",
    "response  = requests.get(url)\n",
    "print(response.text)"
   ]
  }
 ],
 "metadata": {
  "kernelspec": {
   "display_name": "electricvehicle",
   "language": "python",
   "name": "electricvehicle"
  },
  "language_info": {
   "codemirror_mode": {
    "name": "ipython",
    "version": 3
   },
   "file_extension": ".py",
   "mimetype": "text/x-python",
   "name": "python",
   "nbconvert_exporter": "python",
   "pygments_lexer": "ipython3",
   "version": "3.7.7"
  }
 },
 "nbformat": 4,
 "nbformat_minor": 5
}
